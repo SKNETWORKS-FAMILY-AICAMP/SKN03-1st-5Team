{
 "cells": [
  {
   "cell_type": "code",
   "execution_count": null,
   "metadata": {},
   "outputs": [],
   "source": [
    "import pymysql\n",
    "import pandas as pd\n",
    "\n",
    "read_data = pd.read_csv(\"car_info.csv\", delimiter='\\t')\n",
    "con = pymysql.connect(host='localhost', user='root', password='root1234', db='car_registration_status', charset='utf8', autocommit=False) \n",
    "cur = con.cursor(pymysql.cursors.DictCursor)\n",
    "\n",
    "for i in range(len(read_data)):\n",
    "    city = read_data[\"시도명\"][i]\n",
    "    gun_gu = read_data[\"시군구\"][i]\n",
    "\n",
    "    for j in range(4):\n",
    "        usages = j\n",
    "        offical_car = int(read_data[f\"관용{j}\"][i].replace(\",\",\"\"))\n",
    "        own_car = int(read_data[f\"자가용{j}\"][i].replace(\",\",\"\"))\n",
    "        commercial = int(read_data[f\"영업용{j}\"][i].replace(\",\",\"\"))\n",
    "        total = int(read_data[f\"계{j}\"][i].replace(\",\",\"\"))\n",
    "        sql = \"INSERT INTO car_data (city, gun_gu, usages,offical_car, own_car,commercial,  total) VALUES (\\\"%s\\\", \\\"%s\\\", %d, %d, %d, %d, %d);\" % (city, gun_gu, usages,offical_car, own_car,commercial,  total)\n",
    "\n",
    "        cur.execute(sql)\n",
    "cur.execute('commit;')"
   ]
  }
 ],
 "metadata": {
  "kernelspec": {
   "display_name": ".venv",
   "language": "python",
   "name": "python3"
  },
  "language_info": {
   "name": "python",
   "version": "3.12.4"
  }
 },
 "nbformat": 4,
 "nbformat_minor": 2
}
