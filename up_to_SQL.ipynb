{
 "cells": [
  {
   "cell_type": "code",
   "execution_count": 2,
   "metadata": {},
   "outputs": [],
   "source": []
  },
  {
   "cell_type": "code",
   "execution_count": 1,
   "metadata": {},
   "outputs": [
    {
     "data": {
      "text/plain": [
       "0"
      ]
     },
     "execution_count": 1,
     "metadata": {},
     "output_type": "execute_result"
    }
   ],
   "source": [
    "import pandas as pd\n",
    "import pymysql\n",
    "\n",
    "df = pd.read_csv(\"car_info.csv\", delimiter='\\t')\n",
    "\n",
    "\n",
    "con = pymysql.connect(host='localhost', user='nobug2', password='bang8813', db='car_registration_status', charset='utf8', autocommit=False) \n",
    "cur = con.cursor(pymysql.cursors.DictCursor)\n",
    "\n",
    "\n",
    "cur.execute(\"DELETE FROM car_info;\")\n",
    "\n",
    "for i in range(len(df)):\n",
    " #   if df[\"시군구\"][i] == '계':\n",
    " #       continue\n",
    "    city = df[\"시도명\"][i]\n",
    "    gun_gu = df[\"시군구\"][i]\n",
    "\n",
    "    for j in range(4):\n",
    "        usages = j\n",
    "        offical_car = int(df[f\"관용{j}\"][i].replace(\",\",\"\"))\n",
    "        own_car = int(df[f\"자가용{j}\"][i].replace(\",\",\"\"))\n",
    "        commercial = int(df[f\"영업용{j}\"][i].replace(\",\",\"\"))\n",
    "        total = int(df[f\"계{j}\"][i].replace(\",\",\"\"))\n",
    "        sql = \"INSERT INTO car_data (city, gun_gu, usages,offical_car, own_car,commercial,  total) VALUES (\\\"%s\\\",\\\"%s\\\", %d, %d, %d, %d, %d);\" % (city, gun_gu, usages,offical_car, own_car,commercial,  total)\n",
    "\n",
    "        cur.execute(sql)\n",
    "\n",
    "cur.execute(\"commit;\") \n"
   ]
  },
  {
   "cell_type": "code",
   "execution_count": null,
   "metadata": {},
   "outputs": [],
   "source": []
  }
 ],
 "metadata": {
  "kernelspec": {
   "display_name": "Python 3",
   "language": "python",
   "name": "python3"
  },
  "language_info": {
   "codemirror_mode": {
    "name": "ipython",
    "version": 3
   },
   "file_extension": ".py",
   "mimetype": "text/x-python",
   "name": "python",
   "nbconvert_exporter": "python",
   "pygments_lexer": "ipython3",
   "version": "3.12.4"
  }
 },
 "nbformat": 4,
 "nbformat_minor": 2
}
